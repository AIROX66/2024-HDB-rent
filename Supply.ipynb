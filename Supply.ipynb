{
 "cells": [
  {
   "cell_type": "raw",
   "id": "87a42bc6-b24d-412c-8bfb-4e39d68539e2",
   "metadata": {},
   "source": [
    "mrt station, ntuc, shopping mall, distance, supply of houses, supply of condo (building and completed)"
   ]
  },
  {
   "cell_type": "code",
   "execution_count": null,
   "id": "9634c6e9-55b9-432f-80c7-da0d9c3d4c96",
   "metadata": {},
   "outputs": [],
   "source": [
    "import time\n",
    "import json\n",
    "import requests\n",
    "import numpy as np\n",
    "import pandas as pd\n",
    "import seaborn as sns\n",
    "import matplotlib.pyplot as plt"
   ]
  },
  {
   "cell_type": "code",
   "execution_count": null,
   "id": "081c5673-c2f9-4fe9-98bc-b7c5370c7ad9",
   "metadata": {},
   "outputs": [],
   "source": []
  },
  {
   "cell_type": "code",
   "execution_count": null,
   "id": "08f0d432-f697-40dc-9012-036f9bb48a87",
   "metadata": {},
   "outputs": [],
   "source": [
    "rental_data_df = pd.read_csv('inputs/RentingOutofFlats2024CSV.csv')"
   ]
  },
  {
   "cell_type": "code",
   "execution_count": null,
   "id": "953480cf-d90f-42ed-8dd1-9b75f99bca8a",
   "metadata": {},
   "outputs": [],
   "source": [
    "rental_data_df.head()"
   ]
  },
  {
   "cell_type": "code",
   "execution_count": null,
   "id": "e99744b0-a412-4c42-be5f-b2ceb9058491",
   "metadata": {},
   "outputs": [],
   "source": [
    "rental_data_df['address'] = rental_data_df['block'] + ' ' + rental_data_df['street_name'] "
   ]
  },
  {
   "cell_type": "code",
   "execution_count": null,
   "id": "4815ddd1-fff9-47d8-9762-91b32bc8769f",
   "metadata": {},
   "outputs": [],
   "source": []
  },
  {
   "cell_type": "code",
   "execution_count": null,
   "id": "35bc3d65-441a-47b8-b004-92c39cc0e6ee",
   "metadata": {},
   "outputs": [],
   "source": [
    "rental_data_df.isna().sum().sum() == 0"
   ]
  },
  {
   "cell_type": "code",
   "execution_count": null,
   "id": "f136835b-57e4-481b-8373-2e2839edf685",
   "metadata": {},
   "outputs": [],
   "source": [
    "rental_data_df['DATE']       = pd.to_datetime(rental_data_df['rent_approval_date'], errors = 'coerce')\n",
    "rental_data_df['YEAR']       = rental_data_df['DATE'].dt.year.astype('str')\n",
    "rental_data_df['MONTH']      = rental_data_df['DATE'].dt.month.astype('str')\n",
    "rental_data_df['YEAR_MONTH'] = rental_data_df['YEAR'] + '_' + rental_data_df['MONTH']"
   ]
  },
  {
   "cell_type": "code",
   "execution_count": null,
   "id": "4760decb-f02c-48a2-9d1e-b5eecfc83eb9",
   "metadata": {},
   "outputs": [],
   "source": [
    "rental_data_df.groupby('YEAR').size()"
   ]
  },
  {
   "cell_type": "code",
   "execution_count": null,
   "id": "b3c85818-49ee-4ecd-ace9-c8f6109d1ac9",
   "metadata": {},
   "outputs": [],
   "source": [
    "rental_data_df['town'].nunique()"
   ]
  },
  {
   "cell_type": "code",
   "execution_count": null,
   "id": "f18d546f-d862-43f1-bb8c-f469204d46a6",
   "metadata": {
    "scrolled": true
   },
   "outputs": [],
   "source": [
    "rental_data_df.groupby('town').size().sort_values().head()"
   ]
  },
  {
   "cell_type": "code",
   "execution_count": null,
   "id": "19b5f1ae-fead-4f72-a558-b336dc1afe7f",
   "metadata": {},
   "outputs": [],
   "source": [
    "rental_data_df.groupby('town').size().sort_values(ascending = False).head()"
   ]
  },
  {
   "cell_type": "code",
   "execution_count": null,
   "id": "070daa3f-3482-4561-bede-794f2513aba8",
   "metadata": {},
   "outputs": [],
   "source": [
    "rental_data_df.groupby('flat_type').size()"
   ]
  },
  {
   "cell_type": "code",
   "execution_count": null,
   "id": "83b1fe60-d548-405e-ba2a-f79204dd38b8",
   "metadata": {},
   "outputs": [],
   "source": [
    "plt.figure(figsize=(8, 6))\n",
    "sns.boxplot(y = rental_data_df['monthly_rent'], x = rental_data_df['town'])\n",
    "plt.title('Boxplot of Categories', fontsize=16)\n",
    "plt.xlabel('Category', fontsize=12)\n",
    "plt.ylabel('Value', fontsize=12)\n",
    "plt.xticks(rotation=90)\n",
    "plt.show()"
   ]
  },
  {
   "cell_type": "code",
   "execution_count": null,
   "id": "fb446750-df66-468a-9505-48de3143730d",
   "metadata": {},
   "outputs": [],
   "source": [
    "plt.figure(figsize=(20, 8))\n",
    "\n",
    "sns.boxplot(y = rental_data_df['monthly_rent'], x = rental_data_df['town'], hue = rental_data_df['YEAR'])\n",
    "plt.title('Boxplot of Categories', fontsize=16)\n",
    "plt.xlabel('Category', fontsize=12)\n",
    "plt.ylabel('Value', fontsize=12)\n",
    "plt.xticks(rotation=90)\n",
    "plt.show()"
   ]
  },
  {
   "cell_type": "code",
   "execution_count": null,
   "id": "15cccfe8-f83e-42a8-8b5c-f84bb6db97c7",
   "metadata": {},
   "outputs": [],
   "source": [
    "plt.figure(figsize=(20, 8))\n",
    "\n",
    "sns.boxplot(y = rental_data_df['monthly_rent'], x = rental_data_df['flat_type'], hue = rental_data_df['YEAR'])\n",
    "plt.title('Boxplot of Categories', fontsize=16)\n",
    "plt.xlabel('Category', fontsize=12)\n",
    "plt.ylabel('Value', fontsize=12)\n",
    "plt.xticks(rotation=90)\n",
    "plt.show()"
   ]
  },
  {
   "cell_type": "code",
   "execution_count": null,
   "id": "4ab58923-e77b-4676-be9a-58916b044f89",
   "metadata": {},
   "outputs": [],
   "source": [
    "df = rental_data_df.loc[rental_data_df['town'] == 'TOA PAYOH']\n",
    "\n",
    "plt.figure(figsize=(20, 8))\n",
    "\n",
    "sns.boxplot(y = df['monthly_rent'], x = df['flat_type'], hue = df['YEAR'])\n",
    "plt.title('Boxplot of Categories', fontsize=16)\n",
    "plt.xlabel('Category', fontsize=12)\n",
    "plt.ylabel('Value', fontsize=12)\n",
    "plt.xticks(rotation=90)\n",
    "plt.show()"
   ]
  },
  {
   "cell_type": "code",
   "execution_count": null,
   "id": "1d8abca4-817f-4756-bab2-14e3b7313924",
   "metadata": {},
   "outputs": [],
   "source": []
  },
  {
   "cell_type": "code",
   "execution_count": null,
   "id": "88861636-5fa8-488e-8dc6-18c4236127ee",
   "metadata": {},
   "outputs": [],
   "source": []
  },
  {
   "cell_type": "code",
   "execution_count": null,
   "id": "79212552-3e5a-4828-8fff-411df19c2954",
   "metadata": {},
   "outputs": [],
   "source": []
  },
  {
   "cell_type": "code",
   "execution_count": null,
   "id": "9b8df1d2-1acc-4305-b098-f8929265f71d",
   "metadata": {},
   "outputs": [],
   "source": []
  },
  {
   "cell_type": "code",
   "execution_count": null,
   "id": "66bfb87a-01c8-43c9-94c1-82c8ee5422ef",
   "metadata": {},
   "outputs": [],
   "source": []
  },
  {
   "cell_type": "code",
   "execution_count": null,
   "id": "bcbed024-9c3f-47e5-9d65-b6b58fdf9462",
   "metadata": {},
   "outputs": [],
   "source": []
  },
  {
   "cell_type": "code",
   "execution_count": null,
   "id": "0ff058e3-1d78-4944-be7c-46c6f6ca6713",
   "metadata": {},
   "outputs": [],
   "source": []
  },
  {
   "cell_type": "code",
   "execution_count": null,
   "id": "b85de10c-e2df-4491-8b7f-e0ce8ef68a8c",
   "metadata": {
    "scrolled": true
   },
   "outputs": [],
   "source": [
    "import requests\n",
    "          \n",
    "dataset_id = \"d_473a7a55385ca4a3597bc674a79ffe67\"\n",
    "url = \"https://data.gov.sg/api/action/datastore_search?resource_id=\"  + dataset_id\n",
    "        \n",
    "response = requests.get(url)\n",
    "print(response.json())"
   ]
  },
  {
   "cell_type": "code",
   "execution_count": null,
   "id": "6a0fb8ab-c636-4826-91be-165bd28dd6d3",
   "metadata": {},
   "outputs": [],
   "source": []
  },
  {
   "cell_type": "code",
   "execution_count": null,
   "id": "88b3327a-8f80-4bb9-85c6-d5190b96604b",
   "metadata": {},
   "outputs": [],
   "source": [
    "records = response.json()['result']['records']\n",
    "pd.DataFrame(records)"
   ]
  },
  {
   "cell_type": "code",
   "execution_count": null,
   "id": "dead0ebf-120c-4240-8af6-3d15347a3f8e",
   "metadata": {},
   "outputs": [],
   "source": [
    "for key, value in response.json()['result'].items():\n",
    "    print(key)"
   ]
  },
  {
   "cell_type": "code",
   "execution_count": null,
   "id": "d6565c5e-3701-4e22-8f7b-e6061d40c281",
   "metadata": {
    "scrolled": true
   },
   "outputs": [],
   "source": [
    "response.json()"
   ]
  },
  {
   "cell_type": "code",
   "execution_count": null,
   "id": "ce082971-4714-480f-8c3a-b86545f62c47",
   "metadata": {},
   "outputs": [],
   "source": []
  },
  {
   "cell_type": "code",
   "execution_count": null,
   "id": "792fd130-1bb9-4060-a9c7-84fb4076a7a5",
   "metadata": {},
   "outputs": [],
   "source": [
    "import os\n",
    "import json\n",
    "import requests\n",
    "import pandas as pd\n",
    "import numpy as np\n",
    "from dotenv import load_dotenv\n",
    "import matplotlib.pyplot as plt"
   ]
  },
  {
   "cell_type": "code",
   "execution_count": null,
   "id": "b998658d-9093-4bc4-8b48-48aa11ca8ac7",
   "metadata": {},
   "outputs": [],
   "source": [
    "load_dotenv()\n",
    "\n",
    "api_key = os.getenv('API_KEY_26122024')\n",
    "\n",
    "if api_key:\n",
    "    print(\"KEY loaded successfully.\")\n",
    "else:\n",
    "    print(\"KEY not found.\")\n"
   ]
  },
  {
   "cell_type": "markdown",
   "id": "98f11ccf-c643-4dc9-aaff-16590efc8190",
   "metadata": {},
   "source": [
    "# MRT coordinates"
   ]
  },
  {
   "cell_type": "code",
   "execution_count": null,
   "id": "efc31433-054c-46e0-81ef-20b970ef68d2",
   "metadata": {
    "scrolled": true
   },
   "outputs": [],
   "source": [
    "line_ls = ['EW', 'NS', 'NE', 'CC', 'DT', 'TE', 'BP', 'SE', 'SW', 'PE', 'PW']\n",
    "\n",
    "station_ls = []\n",
    "\n",
    "for line in line_ls:\n",
    "    temp_ls = [line + str(i) for i in range(1, 40)]\n",
    "    station_ls = station_ls + temp_ls\n",
    "station_ls"
   ]
  },
  {
   "cell_type": "code",
   "execution_count": null,
   "id": "8d794b75-af45-493b-a99d-7727afd6ac7f",
   "metadata": {},
   "outputs": [],
   "source": [
    "station_df = pd.DataFrame(station_ls, columns = ['station_code'])\n",
    "station_df['station_name'] = None\n",
    "station_df['postal_code']  = None\n",
    "station_df['latitude']     = None\n",
    "station_df['longitude']    = None\n",
    "station_df"
   ]
  },
  {
   "cell_type": "code",
   "execution_count": null,
   "id": "50b0b3fe-903c-4b81-a59d-beeb8468d168",
   "metadata": {
    "scrolled": true
   },
   "outputs": [],
   "source": [
    "start = time.time()\n",
    "for station in station_ls:\n",
    "    url = f\"https://www.onemap.gov.sg/api/common/elastic/search?searchVal={station}&returnGeom=Y&getAddrDetails=Y&pageNum=1\"\n",
    "    headers = {\"Authorization\": api_key}\n",
    "    response = requests.get(url, headers=headers)\n",
    "    parsed_data = json.loads(response.text)\n",
    "\n",
    "    #filter only the MRT station\n",
    "    for count in range(len(parsed_data['results'])):  \n",
    "         if ('MRT' in parsed_data['results'][count]['SEARCHVAL']) or ('LRT' in parsed_data['results'][count]['SEARCHVAL']):\n",
    "             station_df.loc[station_df['station_code'] == station, 'station_name'] = parsed_data['results'][count]['SEARCHVAL']\n",
    "             station_df.loc[station_df['station_code'] == station, 'postal_code'] = parsed_data['results'][count]['POSTAL']\n",
    "             station_df.loc[station_df['station_code'] == station, 'latitude'] = parsed_data['results'][count]['LATITUDE']\n",
    "             station_df.loc[station_df['station_code'] == station, 'longitude'] = parsed_data['results'][count]['LONGITUDE'] \n",
    "    \n",
    "    print(station, start -  time.time())"
   ]
  },
  {
   "cell_type": "code",
   "execution_count": null,
   "id": "b7367e76-1d78-4765-9863-a8fc2f4d5d88",
   "metadata": {},
   "outputs": [],
   "source": [
    "station_df[['station_name', 'postal_code', 'latitude', 'longitude']]"
   ]
  },
  {
   "cell_type": "code",
   "execution_count": null,
   "id": "486f5f68-4f17-45af-9899-2c4b703af811",
   "metadata": {},
   "outputs": [],
   "source": [
    "station_df = station_df.drop_duplicates(subset = ['station_name', 'postal_code', 'latitude', 'longitude'], keep='first')\n",
    "station_df = station_df.loc[station_df['postal_code'] != 'NIL']\n",
    "station_df = station_df.dropna()"
   ]
  },
  {
   "cell_type": "raw",
   "id": "7871e372-67cc-469f-a4cc-b1bd5377f842",
   "metadata": {},
   "source": [
    "station_df.to_csv('inputs/stations_with_coordinates.csv', index = False)"
   ]
  }
 ],
 "metadata": {
  "kernelspec": {
   "display_name": "Python 3 (ipykernel)",
   "language": "python",
   "name": "python3"
  },
  "language_info": {
   "codemirror_mode": {
    "name": "ipython",
    "version": 3
   },
   "file_extension": ".py",
   "mimetype": "text/x-python",
   "name": "python",
   "nbconvert_exporter": "python",
   "pygments_lexer": "ipython3",
   "version": "3.12.2"
  }
 },
 "nbformat": 4,
 "nbformat_minor": 5
}
