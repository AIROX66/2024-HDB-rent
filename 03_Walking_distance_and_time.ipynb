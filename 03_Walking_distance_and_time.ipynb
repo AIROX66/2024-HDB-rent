{
 "cells": [
  {
   "cell_type": "code",
   "execution_count": null,
   "id": "9634c6e9-55b9-432f-80c7-da0d9c3d4c96",
   "metadata": {},
   "outputs": [],
   "source": [
    "import os\n",
    "import json\n",
    "import requests\n",
    "import pandas as pd\n",
    "import numpy as np\n",
    "import time \n",
    "import matplotlib.pyplot as plt\n",
    "\n",
    "from functions import load_api_key, haversine\n",
    "\n",
    "pd.set_option('display.max_columns', None)\n",
    "\n",
    "%load_ext autoreload\n",
    "%autoreload 2"
   ]
  },
  {
   "cell_type": "code",
   "execution_count": null,
   "id": "848b68d9-9c1e-4498-baa3-89e24f7432c4",
   "metadata": {},
   "outputs": [],
   "source": [
    "api_key = load_api_key()"
   ]
  },
  {
   "cell_type": "code",
   "execution_count": null,
   "id": "954f777c-43a0-4eda-ab9f-7f14f801a498",
   "metadata": {},
   "outputs": [],
   "source": [
    "rental_data_df = pd.read_csv('inputs/rental_with_coordinates.csv')\n",
    "unique_addresses_df = rental_data_df.drop_duplicates(subset='address', keep='first')[['address', 'postal_code', 'latitude', 'longitude']]\n",
    "print('No of unique addresses', rental_data_df['address'].nunique())"
   ]
  },
  {
   "cell_type": "code",
   "execution_count": null,
   "id": "5e67be6f-91fa-4e5e-b7a8-7073c678e3a0",
   "metadata": {},
   "outputs": [],
   "source": [
    "station_df = pd.read_csv('inputs/stations_with_coordinates.csv')\n",
    "station_df.columns = 'station_' + station_df.columns\n",
    "print('No of unique stations', station_df['station_station_name'].nunique())"
   ]
  },
  {
   "cell_type": "code",
   "execution_count": null,
   "id": "7d4d8185-33bd-456c-a16d-2427b779ecaa",
   "metadata": {},
   "outputs": [],
   "source": [
    "time_distance_df = unique_addresses_df.merge(station_df, how = 'cross')\n",
    "time_distance_df['walking_time_s'] = None\n",
    "time_distance_df['walking_distance_m'] = None\n",
    "print('No of possible combination from each address to each stations', len(time_distance_df))"
   ]
  },
  {
   "cell_type": "code",
   "execution_count": null,
   "id": "1ebe3add-4f1c-4040-905c-01021ea11cfb",
   "metadata": {},
   "outputs": [],
   "source": [
    "time_distance_df.loc[time_distance_df['address'] == '213 CHOA CHU KANG CTRL'].head()"
   ]
  },
  {
   "cell_type": "code",
   "execution_count": null,
   "id": "65fa7073-f119-4937-bfe5-410ae4905266",
   "metadata": {},
   "outputs": [],
   "source": [
    "# resolve incorrect values\n",
    "print(time_distance_df.loc[time_distance_df['postal_code'] == 'NIL', 'address'].unique())\n",
    "time_distance_df.loc[time_distance_df['address'] == '215 CHOA CHU KANG CTRL', 'postal_code'] = 680215\n",
    "\n",
    "rental_data_df.loc[rental_data_df['address'] == '215 CHOA CHU KANG CTRL', 'postal_code'] = 680215\n",
    "rental_data_df.to_csv('inputs/rental_with_coordinates.csv', index = False)"
   ]
  },
  {
   "cell_type": "code",
   "execution_count": null,
   "id": "ab6062cb-b533-421c-bc23-6a7e9d203b35",
   "metadata": {},
   "outputs": [],
   "source": [
    "time_distance_df['station_postal_code'] = time_distance_df['station_postal_code'].astype(int)\n",
    "time_distance_df['postal_code'] = time_distance_df['postal_code'].astype(int)"
   ]
  },
  {
   "cell_type": "code",
   "execution_count": null,
   "id": "9c433164-d874-4ef6-b2bd-cdb5f0a4ca22",
   "metadata": {},
   "outputs": [],
   "source": [
    "# Calculate the distance for each row\n",
    "time_distance_df[\"hervsine_distance\"] = time_distance_df.apply(\n",
    "                                        lambda row: haversine(row[\"latitude\"], row[\"longitude\"], row[\"station_latitude\"], row[\"station_longitude\"]), axis=1)"
   ]
  },
  {
   "cell_type": "code",
   "execution_count": null,
   "id": "32c35160-556a-4078-ba7c-ebac2fe64867",
   "metadata": {},
   "outputs": [],
   "source": [
    "time_distance_df"
   ]
  },
  {
   "cell_type": "code",
   "execution_count": null,
   "id": "62163a08-5f93-4f29-a077-32cee642ed23",
   "metadata": {},
   "outputs": [],
   "source": [
    "# Group by 'address' and get the top 3 smallest distances\n",
    "filtered_time_distance_df = (\n",
    "    time_distance_df.groupby(\"address\", group_keys=False)\n",
    "    .apply(lambda group: group.nsmallest(3, \"hervsine_distance\"), include_groups=False))\n",
    "\n",
    "filtered_time_distance_df = filtered_time_distance_df.reset_index(drop = True)\n",
    "filtered_time_distance_df"
   ]
  },
  {
   "cell_type": "code",
   "execution_count": null,
   "id": "8cd1c8e7-60f2-448d-8df2-ed448aa618cd",
   "metadata": {},
   "outputs": [],
   "source": [
    "filtered_time_distance_df['postal_code'].nunique()"
   ]
  },
  {
   "cell_type": "code",
   "execution_count": null,
   "id": "5ffbe183-85ec-4f46-8714-e40b3d93d5e4",
   "metadata": {
    "scrolled": true
   },
   "outputs": [],
   "source": [
    "start = time.time()\n",
    "\n",
    "for row in range(len(filtered_time_distance_df)):\n",
    "    start_latitude  = float(filtered_time_distance_df.loc[row, 'latitude'])\n",
    "    start_longitude = float(filtered_time_distance_df.loc[row, 'longitude'])    \n",
    "    end_latitude    = float(filtered_time_distance_df.loc[row, 'station_latitude'])\n",
    "    end_longitude   = float(filtered_time_distance_df.loc[row, 'station_longitude'])   \n",
    "\n",
    "    url = f\"https://www.onemap.gov.sg/api/public/routingsvc/route?start={start_latitude}%2C{start_longitude}&end={end_latitude}%2C{end_longitude}&routeType=walk\"\n",
    "    headers = {\"Authorization\": api_key}\n",
    "    response = requests.request(\"GET\", url, headers=headers)\n",
    "    while response.status_code != 200:\n",
    "        time.sleep(169)\n",
    "        response = requests.request(\"GET\", url, headers=headers)\n",
    "    parsed_data = json.loads(response.text)    \n",
    "    filtered_time_distance_df.loc[row, 'walking_time_s'] = parsed_data['route_summary']['total_time'] \n",
    "    filtered_time_distance_df.loc[row, 'walking_distance_m'] = parsed_data['route_summary']['total_distance'] \n",
    "\n",
    "    if row%100 == 0:\n",
    "        print(row, (time.time() - start)/60)"
   ]
  },
  {
   "cell_type": "code",
   "execution_count": null,
   "id": "7cf02313-261c-4f5f-bd48-2d979bc1c999",
   "metadata": {
    "scrolled": true
   },
   "outputs": [],
   "source": [
    "filtered_time_distance_df"
   ]
  },
  {
   "cell_type": "raw",
   "id": "cbb64855-ec77-4305-9be1-666b890f6c26",
   "metadata": {},
   "source": [
    "filtered_time_distance_df.to_csv('inputs/travelling_distance.csv', index = False)"
   ]
  },
  {
   "cell_type": "markdown",
   "id": "ade2c9a1-fa23-47e8-8ca9-5f41778651a1",
   "metadata": {},
   "source": [
    "# Handle previous wrong postal code"
   ]
  },
  {
   "cell_type": "code",
   "execution_count": null,
   "id": "70d95053-c7a2-42b9-be44-02c99929c9fc",
   "metadata": {},
   "outputs": [],
   "source": [
    "filtered_time_distance_df = pd.read_csv('inputs/travelling_distance.csv')"
   ]
  },
  {
   "cell_type": "code",
   "execution_count": null,
   "id": "d91f6f73-df42-45a7-bcd4-afa0e08e8d25",
   "metadata": {},
   "outputs": [],
   "source": [
    "df = pd.DataFrame({'postal_code' : [530021],\n",
    "                  'latitude' : [1.364246],\n",
    "                  'longitude' : [103.8914777],\n",
    "                  })"
   ]
  },
  {
   "cell_type": "code",
   "execution_count": null,
   "id": "224939d6-b6a7-49e9-9333-8aa431e141d0",
   "metadata": {},
   "outputs": [],
   "source": [
    "special_df = df.merge(station_df, how = 'cross')"
   ]
  },
  {
   "cell_type": "code",
   "execution_count": null,
   "id": "ca9b6f95-4a55-42d8-9bc0-3ccb6f1c269b",
   "metadata": {},
   "outputs": [],
   "source": [
    "special_df[\"hervsine_distance\"] = special_df.apply(\n",
    "                                        lambda row: haversine(row[\"latitude\"], row[\"longitude\"], row[\"station_latitude\"], row[\"station_longitude\"]), axis=1)"
   ]
  },
  {
   "cell_type": "code",
   "execution_count": null,
   "id": "18ec4d5c-36c2-445e-a068-950f4c1c2c3c",
   "metadata": {},
   "outputs": [],
   "source": [
    "special_df"
   ]
  },
  {
   "cell_type": "code",
   "execution_count": null,
   "id": "88ed6300-c70c-42d7-bb54-94ea925337bf",
   "metadata": {},
   "outputs": [],
   "source": [
    "filtered_special_df = special_df.sort_values('hervsine_distance', ascending = True).iloc[:3]\n",
    "filtered_special_df = filtered_special_df.reset_index(drop = True)\n",
    "filtered_special_df"
   ]
  },
  {
   "cell_type": "code",
   "execution_count": null,
   "id": "b084581b-377d-4b2c-89b3-8f18e7c6d808",
   "metadata": {},
   "outputs": [],
   "source": [
    "start = time.time()\n",
    "\n",
    "for row in range(len(filtered_special_df)):\n",
    "    start_latitude  = float(filtered_special_df.loc[row, 'latitude'])\n",
    "    start_longitude = float(filtered_special_df.loc[row, 'longitude'])    \n",
    "    end_latitude    = float(filtered_special_df.loc[row, 'station_latitude'])\n",
    "    end_longitude   = float(filtered_special_df.loc[row, 'station_longitude'])   \n",
    "\n",
    "    url = f\"https://www.onemap.gov.sg/api/public/routingsvc/route?start={start_latitude}%2C{start_longitude}&end={end_latitude}%2C{end_longitude}&routeType=walk\"\n",
    "    headers = {\"Authorization\": api_key}\n",
    "    response = requests.request(\"GET\", url, headers=headers)\n",
    "    while response.status_code != 200:\n",
    "        time.sleep(169)\n",
    "        response = requests.request(\"GET\", url, headers=headers)\n",
    "    parsed_data = json.loads(response.text)    \n",
    "    filtered_special_df.loc[row, 'walking_time_s'] = parsed_data['route_summary']['total_time'] \n",
    "    filtered_special_df.loc[row, 'walking_distance_m'] = parsed_data['route_summary']['total_distance'] \n"
   ]
  },
  {
   "cell_type": "code",
   "execution_count": null,
   "id": "16284b85-2543-43aa-bead-db77f2c8e96b",
   "metadata": {},
   "outputs": [],
   "source": [
    "filtered_special_df"
   ]
  },
  {
   "cell_type": "code",
   "execution_count": null,
   "id": "ab4ccbde-926b-4d4c-b969-ca782068bf49",
   "metadata": {},
   "outputs": [],
   "source": [
    "filtered_time_distance_df = pd.concat([filtered_time_distance_df, filtered_special_df], axis = 0).reset_index(drop = True)"
   ]
  },
  {
   "cell_type": "code",
   "execution_count": null,
   "id": "fa0b346f-b70b-4898-b03a-c2c8600876e3",
   "metadata": {},
   "outputs": [],
   "source": [
    "filtered_time_distance_df.to_csv('inputs/travelling_distance.csv', index = False)"
   ]
  }
 ],
 "metadata": {
  "kernelspec": {
   "display_name": "Python 3 (ipykernel)",
   "language": "python",
   "name": "python3"
  },
  "language_info": {
   "codemirror_mode": {
    "name": "ipython",
    "version": 3
   },
   "file_extension": ".py",
   "mimetype": "text/x-python",
   "name": "python",
   "nbconvert_exporter": "python",
   "pygments_lexer": "ipython3",
   "version": "3.12.2"
  }
 },
 "nbformat": 4,
 "nbformat_minor": 5
}
