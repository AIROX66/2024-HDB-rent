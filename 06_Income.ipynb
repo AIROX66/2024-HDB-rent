{
 "cells": [
  {
   "cell_type": "code",
   "execution_count": null,
   "id": "9752fe19-a0ce-46ed-8e3b-936fd9a8b0da",
   "metadata": {},
   "outputs": [],
   "source": [
    "import os\n",
    "import json\n",
    "import requests\n",
    "import time \n",
    "import pandas as pd\n",
    "import numpy as np\n",
    "import seaborn as sns\n",
    "import matplotlib.pyplot as plt\n",
    "\n",
    "from datetime import datetime\n",
    "\n",
    "from functions import load_api_key, point_plotting, plotting\n",
    "\n",
    "pd.set_option('display.max_columns', None)\n",
    "\n",
    "%load_ext autoreload\n",
    "%autoreload 2"
   ]
  },
  {
   "cell_type": "code",
   "execution_count": null,
   "id": "3af47170-2936-4197-8b05-d43aacf30f81",
   "metadata": {},
   "outputs": [],
   "source": [
    "rental_data_df = pd.read_csv('inputs/rental_with_coordinates.csv')"
   ]
  },
  {
   "cell_type": "code",
   "execution_count": null,
   "id": "bd9dbc1e-2a79-45dd-8931-0207a554bd13",
   "metadata": {},
   "outputs": [],
   "source": [
    "income_df = pd.read_csv('inputs/TaxableIndividualsbyAssessedIncomeGroup.csv')\n",
    "income_df = income_df[income_df['year_of_assessment'].between(2020, 2024)]\n",
    "income_df['year_of_assessment'] = income_df['year_of_assessment'].astype(int)"
   ]
  },
  {
   "cell_type": "code",
   "execution_count": null,
   "id": "5f9507b2-3868-4aba-b5ef-6bf7f8565584",
   "metadata": {},
   "outputs": [],
   "source": [
    "income_df"
   ]
  },
  {
   "cell_type": "markdown",
   "id": "a13db0b2-581e-4b98-96e3-558fb1e78022",
   "metadata": {},
   "source": [
    "# Number of taxpayers"
   ]
  },
  {
   "cell_type": "code",
   "execution_count": null,
   "id": "d926e4a3-1cf0-4f43-95e1-da54e91ac424",
   "metadata": {},
   "outputs": [],
   "source": [
    "total_income_ppl_df = pd.DataFrame()\n",
    "for year in [2020, 2021, 2022, 2023]:\n",
    "    df = income_df[income_df['year_of_assessment'] == year].groupby('assessed_income_group')['number_of_taxpayers'].sum().reset_index()\n",
    "    df = df.sort_values('assessed_income_group').T\n",
    "    df.columns = df.iloc[0]\n",
    "    df = df.iloc[1:].reset_index(drop = True)\n",
    "    df.columns = [col + '_taxpayer' for col in df.columns]\n",
    "    df['total_taxpayer'] = df.sum(axis = 1)\n",
    "    df['year'] = year\n",
    "    total_income_ppl_df = pd.concat([total_income_ppl_df, df])"
   ]
  },
  {
   "cell_type": "code",
   "execution_count": null,
   "id": "c288bf7b-ece8-4f2d-a656-6966fe4d0fd8",
   "metadata": {},
   "outputs": [],
   "source": [
    "collapsed_total_income_ppl_df = pd.melt(total_income_ppl_df, id_vars=[\"year\"], var_name=\"category\", value_name=\"number_of_people\")"
   ]
  },
  {
   "cell_type": "code",
   "execution_count": null,
   "id": "123a109b-761a-4893-a1f6-00174b02ef1c",
   "metadata": {},
   "outputs": [],
   "source": [
    "order = [\n",
    "        '20,000 & below_taxpayer', '20,001 - 25,000_taxpayer', '25,001 - 30,000_taxpayer', '30,001 - 40,000_taxpayer', '40,001 - 50,000_taxpayer', \n",
    "        '50,001 - 60,000_taxpayer', '60,001 - 70,000_taxpayer', '70,001 - 80,000_taxpayer', '80,001 - 100,000_taxpayer',\n",
    "        '100,001 - 150,000_taxpayer', '150,001 - 200,000_taxpayer','200,001 - 300,000_taxpayer', '300,001 - 400,000_taxpayer', '400,001 - 500,000_taxpayer', \n",
    "        '500,001 - 1,000,000_taxpayer', '1,000,001 & above_taxpayer']\n",
    "df = collapsed_total_income_ppl_df[collapsed_total_income_ppl_df['category']!= 'total_taxpayer']\n",
    "plotting('count of income ppl vs time', 'barplot', df, 'category', 'number_of_people', 'year', desired_order = order)"
   ]
  },
  {
   "cell_type": "code",
   "execution_count": null,
   "id": "1cd225d3-27f2-4be2-b8fc-9c26067c5999",
   "metadata": {},
   "outputs": [],
   "source": [
    "rate_change_income_ppl_df = df.sort_values(by=['category', 'year']).reset_index(drop=True)\n",
    "rate_change_income_ppl_df['previous_year_number'] = rate_change_income_ppl_df.groupby('category')['number_of_people'].shift(1)\n",
    "rate_change_income_ppl_df['ppl_increase_perc'] = (rate_change_income_ppl_df['number_of_people'] - rate_change_income_ppl_df['previous_year_number'])/ rate_change_income_ppl_df['previous_year_number'] * 100\n",
    "rate_change_income_ppl_df = rate_change_income_ppl_df.dropna()"
   ]
  },
  {
   "cell_type": "code",
   "execution_count": null,
   "id": "b0d14dd2-c99e-486e-a3c8-2b0f4b97a967",
   "metadata": {},
   "outputs": [],
   "source": [
    "mean_rental_data_df = rental_data_df.groupby(['year', 'town'])['monthly_rent'].mean().reset_index()\n",
    "mean_rental_data_df = mean_rental_data_df.sort_values(by=['town', 'year']).reset_index(drop=True)\n",
    "mean_rental_data_df['previous_year_number'] = mean_rental_data_df.groupby('town')['monthly_rent'].shift(1)\n",
    "mean_rental_data_df['rent_increase_perc'] = (mean_rental_data_df['monthly_rent'] - mean_rental_data_df['previous_year_number'])/ mean_rental_data_df['previous_year_number'] * 100\n",
    "mean_rental_data_df = mean_rental_data_df.dropna()"
   ]
  },
  {
   "cell_type": "code",
   "execution_count": null,
   "id": "439d92a5-356b-47e3-ac8e-346ed8f25b96",
   "metadata": {},
   "outputs": [],
   "source": [
    "mean_rental_data_df"
   ]
  },
  {
   "cell_type": "code",
   "execution_count": null,
   "id": "6d119fa2-0f96-46ca-a8f0-679469b4e898",
   "metadata": {},
   "outputs": [],
   "source": [
    "plotting('Percentage of change in annual mean rent', 'barplot', mean_rental_data_df, 'town', 'rent_increase_perc', 'year')"
   ]
  },
  {
   "cell_type": "code",
   "execution_count": null,
   "id": "456eeee8-0f95-4a99-b173-1131769a2ff2",
   "metadata": {},
   "outputs": [],
   "source": [
    "order = [\n",
    "        '20,000 & below_taxpayer', '20,001 - 25,000_taxpayer', '25,001 - 30,000_taxpayer', '30,001 - 40,000_taxpayer', '40,001 - 50,000_taxpayer', \n",
    "        '50,001 - 60,000_taxpayer', '60,001 - 70,000_taxpayer', '70,001 - 80,000_taxpayer', '80,001 - 100,000_taxpayer',\n",
    "        '100,001 - 150,000_taxpayer', '150,001 - 200,000_taxpayer','200,001 - 300,000_taxpayer', '300,001 - 400,000_taxpayer', '400,001 - 500,000_taxpayer', \n",
    "        '500,001 - 1,000,000_taxpayer', '1,000,001 & above_taxpayer']\n",
    "plotting('Percentage of change in people', 'barplot', rate_change_income_ppl_df, 'category', 'ppl_increase_perc', 'year', order)"
   ]
  },
  {
   "cell_type": "code",
   "execution_count": null,
   "id": "e910611f-2267-4098-a778-6fe58651564d",
   "metadata": {},
   "outputs": [],
   "source": []
  },
  {
   "cell_type": "code",
   "execution_count": null,
   "id": "1137b8c6-5015-43a4-8033-3c1de25db1bd",
   "metadata": {},
   "outputs": [],
   "source": []
  },
  {
   "cell_type": "code",
   "execution_count": null,
   "id": "2389b8c0-1894-486f-a0e6-3941037d816e",
   "metadata": {},
   "outputs": [],
   "source": []
  },
  {
   "cell_type": "code",
   "execution_count": null,
   "id": "35a91a21-5510-42af-9b80-caa65e38e1ce",
   "metadata": {},
   "outputs": [],
   "source": []
  },
  {
   "cell_type": "markdown",
   "id": "da9d7e5e-347d-4140-bd0c-51b18ce8ed0f",
   "metadata": {},
   "source": [
    "# total income"
   ]
  },
  {
   "cell_type": "code",
   "execution_count": null,
   "id": "0b51bad5-ff9f-4a90-8a37-7b02b74af5ae",
   "metadata": {},
   "outputs": [],
   "source": [
    "total_income_df = pd.DataFrame()\n",
    "for year in [2020, 2021, 2022, 2023]:\n",
    "    df = income_df[income_df['year_of_assessment'] == year].groupby('assessed_income_group')['assessable_income'].sum().reset_index()\n",
    "    df = df.sort_values('assessed_income_group').T\n",
    "    df.columns = df.iloc[0]\n",
    "    df = df.iloc[1:].reset_index(drop = True)\n",
    "    df.columns = [col + '_income' for col in df.columns]\n",
    "    df['total_income'] = df.sum(axis = 1)\n",
    "    df['year'] = year\n",
    "    total_income_df = pd.concat([total_income_df, df])"
   ]
  },
  {
   "cell_type": "code",
   "execution_count": null,
   "id": "8383f33b-8e3e-46ac-8fbe-298356a7e0ca",
   "metadata": {},
   "outputs": [],
   "source": [
    "total_income_df"
   ]
  },
  {
   "cell_type": "code",
   "execution_count": null,
   "id": "2834e95c-e0d0-4822-971f-8459357cf885",
   "metadata": {},
   "outputs": [],
   "source": [
    "collapsed_total_income_df = pd.melt(total_income_df, id_vars=[\"year\"], var_name=\"category\", value_name=\"income_sum\")"
   ]
  },
  {
   "cell_type": "code",
   "execution_count": null,
   "id": "cad002dc-0215-41a2-8146-c5d6f0b37787",
   "metadata": {},
   "outputs": [],
   "source": [
    "order = [\n",
    "        '20,000 & below_income', '20,001 - 25,000_income', '25,001 - 30,000_income', '30,001 - 40,000_income', '40,001 - 50,000_income', \n",
    "        '50,001 - 60,000_income', '60,001 - 70,000_income', '70,001 - 80,000_income', '80,001 - 100,000_income',\n",
    "        '100,001 - 150,000_income', '150,001 - 200,000_income','200,001 - 300,000_income', '300,001 - 400,000_income', '400,001 - 500,000_income', \n",
    "        '500,001 - 1,000,000_income', '1,000,001 & above_income']\n",
    "df = collapsed_total_income_df[collapsed_total_income_df['category']!= 'total_income']\n",
    "plotting('income vs time', 'barplot', df, 'category', 'income_sum', 'year', desired_order = order)"
   ]
  },
  {
   "cell_type": "code",
   "execution_count": null,
   "id": "b4b65b76-a206-4fd9-b7a6-bf9bc6b7a514",
   "metadata": {},
   "outputs": [],
   "source": [
    "rental_data_df = rental_data_df.merge(total_income_df, on = 'year', how = 'left')\n",
    "rental_data_df.head()"
   ]
  },
  {
   "cell_type": "code",
   "execution_count": null,
   "id": "c079aa8c-5dd1-4004-8c65-37e565f4da91",
   "metadata": {},
   "outputs": [],
   "source": []
  },
  {
   "cell_type": "code",
   "execution_count": null,
   "id": "17a23f8e-88c5-431b-bfa4-5c9d381de0ec",
   "metadata": {},
   "outputs": [],
   "source": []
  },
  {
   "cell_type": "code",
   "execution_count": null,
   "id": "4c3b4fbb-1db3-40c5-bda7-827738d5aa73",
   "metadata": {},
   "outputs": [],
   "source": []
  },
  {
   "cell_type": "code",
   "execution_count": null,
   "id": "c635c9f8-ac83-4f97-9d1d-6a1c4c138a05",
   "metadata": {},
   "outputs": [],
   "source": []
  }
 ],
 "metadata": {
  "kernelspec": {
   "display_name": "Python 3 (ipykernel)",
   "language": "python",
   "name": "python3"
  },
  "language_info": {
   "codemirror_mode": {
    "name": "ipython",
    "version": 3
   },
   "file_extension": ".py",
   "mimetype": "text/x-python",
   "name": "python",
   "nbconvert_exporter": "python",
   "pygments_lexer": "ipython3",
   "version": "3.12.2"
  }
 },
 "nbformat": 4,
 "nbformat_minor": 5
}
