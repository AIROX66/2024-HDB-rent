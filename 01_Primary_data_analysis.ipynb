{
 "cells": [
  {
   "cell_type": "markdown",
   "id": "5796ea79-75e2-4117-ba47-709abf596082",
   "metadata": {},
   "source": [
    "# Introduction\n",
    "<a id=\"Introduction\"></a>"
   ]
  },
  {
   "cell_type": "raw",
   "id": "87a42bc6-b24d-412c-8bfb-4e39d68539e2",
   "metadata": {},
   "source": [
    "mrt station, ntuc, shopping mall, distance, supply of houses, supply of condo (building and completed), schools"
   ]
  },
  {
   "cell_type": "code",
   "execution_count": null,
   "id": "9634c6e9-55b9-432f-80c7-da0d9c3d4c96",
   "metadata": {},
   "outputs": [],
   "source": [
    "import time\n",
    "import json\n",
    "import requests\n",
    "import numpy as np\n",
    "import pandas as pd\n",
    "import seaborn as sns\n",
    "import matplotlib.pyplot as plt\n",
    "import scipy.stats as stats\n",
    "import statsmodels.api as sm\n",
    "\n",
    "from scipy.stats import kruskal\n",
    "from scipy.stats import anderson\n",
    "from datetime import datetime\n",
    "\n",
    "\n",
    "from functions import load_api_key, plotting\n",
    "\n",
    "pd.set_option('display.max_columns', None)\n",
    "\n",
    "%load_ext autoreload\n",
    "%autoreload 2"
   ]
  },
  {
   "cell_type": "markdown",
   "id": "b3db0897-ebba-4ff3-86d7-b4ec39f17792",
   "metadata": {},
   "source": [
    "# Primary Data\n",
    "<a id=\"Primary-Data\"></a>"
   ]
  },
  {
   "cell_type": "code",
   "execution_count": null,
   "id": "08f0d432-f697-40dc-9012-036f9bb48a87",
   "metadata": {},
   "outputs": [],
   "source": [
    "rental_data_df = pd.read_csv('inputs/RentingOutofFlats2024CSV.csv')"
   ]
  },
  {
   "cell_type": "code",
   "execution_count": null,
   "id": "93e0fbf2-b99e-48b1-9f20-bc6aae7ec1b4",
   "metadata": {},
   "outputs": [],
   "source": [
    "rental_data_df.shape"
   ]
  },
  {
   "cell_type": "code",
   "execution_count": null,
   "id": "953480cf-d90f-42ed-8dd1-9b75f99bca8a",
   "metadata": {},
   "outputs": [],
   "source": [
    "rental_data_df.head()"
   ]
  },
  {
   "cell_type": "code",
   "execution_count": null,
   "id": "35bc3d65-441a-47b8-b004-92c39cc0e6ee",
   "metadata": {},
   "outputs": [],
   "source": [
    "rental_data_df.isna().sum().sum() == 0"
   ]
  },
  {
   "cell_type": "code",
   "execution_count": null,
   "id": "f136835b-57e4-481b-8373-2e2839edf685",
   "metadata": {},
   "outputs": [],
   "source": [
    "rental_data_df['date']       = pd.to_datetime(rental_data_df['rent_approval_date'], errors = 'coerce')\n",
    "rental_data_df['year']       = rental_data_df['date'].dt.year.astype('str')\n",
    "rental_data_df['month']      = rental_data_df['date'].dt.month.astype('str')\n",
    "rental_data_df['year_month'] = rental_data_df['year'] + '_' + rental_data_df['month']\n",
    "rental_data_df['address'] = rental_data_df['block'] + ' ' + rental_data_df['street_name'] "
   ]
  },
  {
   "cell_type": "code",
   "execution_count": null,
   "id": "ca2d6a9f-391b-4d30-8afd-66901a8a01f2",
   "metadata": {},
   "outputs": [],
   "source": [
    "rental_data_df['year_month'].min(), rental_data_df['year_month'].max()"
   ]
  },
  {
   "cell_type": "code",
   "execution_count": null,
   "id": "4760decb-f02c-48a2-9d1e-b5eecfc83eb9",
   "metadata": {},
   "outputs": [],
   "source": [
    "rental_data_df.groupby('year').size()"
   ]
  },
  {
   "cell_type": "code",
   "execution_count": null,
   "id": "4745f3f2-c54d-4315-a6f2-e20ca9804800",
   "metadata": {},
   "outputs": [],
   "source": [
    "df = rental_data_df.groupby(['year', 'town']).size().reset_index()\n",
    "df.to_csv('temp.csv')"
   ]
  },
  {
   "cell_type": "code",
   "execution_count": null,
   "id": "b3c85818-49ee-4ecd-ace9-c8f6109d1ac9",
   "metadata": {},
   "outputs": [],
   "source": [
    "rental_data_df['town'].nunique()"
   ]
  },
  {
   "cell_type": "code",
   "execution_count": null,
   "id": "f18d546f-d862-43f1-bb8c-f469204d46a6",
   "metadata": {
    "scrolled": true
   },
   "outputs": [],
   "source": [
    "rental_data_df.groupby('town').size().sort_values().head()"
   ]
  },
  {
   "cell_type": "code",
   "execution_count": null,
   "id": "0f2364ef-e88d-4b4e-96ef-0f8f3141dc6e",
   "metadata": {},
   "outputs": [],
   "source": [
    "df = rental_data_df.groupby(['year','town'])['monthly_rent'].mean().reset_index()\n",
    "df.loc[df.groupby('year')['monthly_rent'].idxmax()]"
   ]
  },
  {
   "cell_type": "code",
   "execution_count": null,
   "id": "19b5f1ae-fead-4f72-a558-b336dc1afe7f",
   "metadata": {},
   "outputs": [],
   "source": [
    "rental_data_df.groupby('town').size().sort_values(ascending = False).head()"
   ]
  },
  {
   "cell_type": "code",
   "execution_count": null,
   "id": "070daa3f-3482-4561-bede-794f2513aba8",
   "metadata": {},
   "outputs": [],
   "source": [
    "rental_data_df.groupby('flat_type').size()"
   ]
  },
  {
   "cell_type": "markdown",
   "id": "7c2ac62b-1df8-46ee-8d63-37665d0bf886",
   "metadata": {},
   "source": [
    "# Exploratory Data Analysis\n",
    "<a id=\"EDA\"></a>"
   ]
  },
  {
   "cell_type": "code",
   "execution_count": null,
   "id": "f812e2f9-ac49-4436-bdf5-9cc1aaef5685",
   "metadata": {},
   "outputs": [],
   "source": [
    "plotting('Town rents', 'boxplot', rental_data_df, 'town', 'monthly_rent')"
   ]
  },
  {
   "cell_type": "code",
   "execution_count": null,
   "id": "448d125b-ec56-48b3-9063-e8e90c308bb7",
   "metadata": {},
   "outputs": [],
   "source": [
    "plotting('Town rents across years', 'boxplot', rental_data_df, 'town', 'monthly_rent', 'year')"
   ]
  },
  {
   "cell_type": "code",
   "execution_count": null,
   "id": "ff2b5971-5bdd-4fa2-a463-ab46b7bedead",
   "metadata": {},
   "outputs": [],
   "source": [
    "plotting('Town rents across years and different room-size', 'boxplot', rental_data_df, 'flat_type', 'monthly_rent', 'year', desired_order = rental_data_df['flat_type'].sort_values().unique().tolist())"
   ]
  },
  {
   "cell_type": "code",
   "execution_count": null,
   "id": "8e1702d5-3e73-4126-9a39-f069b51afc8c",
   "metadata": {},
   "outputs": [],
   "source": [
    "df = rental_data_df.groupby(['town', 'year']).size().reset_index()\n",
    "df = df.rename(columns = {0:'count'})\n",
    "plotting('Data count across towns and years', 'barplot', df, 'town', 'count', 'year')"
   ]
  },
  {
   "cell_type": "code",
   "execution_count": null,
   "id": "e90429f8-c06b-45d1-aabb-46e1231a1007",
   "metadata": {},
   "outputs": [],
   "source": []
  },
  {
   "cell_type": "markdown",
   "id": "429c8399-8d65-4f84-803a-73e55a51d8a9",
   "metadata": {},
   "source": [
    "# Statistical Testing\n",
    "<a id=\"Stats\"></a>"
   ]
  },
  {
   "cell_type": "code",
   "execution_count": null,
   "id": "dc766823-bd15-4c9b-8c4a-c4cc0deeec02",
   "metadata": {},
   "outputs": [],
   "source": [
    "plotting(f'histogram', 'histplot', rental_data_df, 'monthly_rent', 'monthly_rent', category = 'year')"
   ]
  },
  {
   "cell_type": "code",
   "execution_count": null,
   "id": "18db0466-88e3-40e6-b7ac-08786b40fcea",
   "metadata": {
    "scrolled": true
   },
   "outputs": [],
   "source": [
    "for year in rental_data_df['year'].unique():\n",
    "    df = rental_data_df[rental_data_df['year'] == year]\n",
    "    plotting(f'histogram for {year}', 'histplot', df, 'monthly_rent', 'monthly_rent', x_min = rental_data_df['monthly_rent'].min() * 0.9, x_max = rental_data_df['monthly_rent'].max() * 1.1, y_max = 5000)"
   ]
  },
  {
   "cell_type": "code",
   "execution_count": null,
   "id": "af6e2336-67cc-47c0-80af-cacfffb16529",
   "metadata": {
    "scrolled": true
   },
   "outputs": [],
   "source": [
    "import matplotlib.pyplot as plt\n",
    "\n",
    "for year in rental_data_df['year'].unique():\n",
    "    data = rental_data_df[rental_data_df['year'] == year]\n",
    "    stats.probplot(data['monthly_rent'], dist=\"norm\", plot=plt)\n",
    "    plt.title(f\"Q-Q Plot of Rental Prices {year}\")\n",
    "    plt.show()"
   ]
  },
  {
   "cell_type": "code",
   "execution_count": null,
   "id": "31c240f4-2944-4eb6-a5c1-99f4da092cb0",
   "metadata": {},
   "outputs": [],
   "source": [
    "\n",
    "\n",
    "for year in rental_data_df['year'].unique():\n",
    "    data = rental_data_df[rental_data_df['year'] == year]\n",
    "    result = anderson(data['monthly_rent'])\n",
    "    print(f\"Anderson-Darling Test Statistic: {result.statistic}, Critical Values: {result.critical_values}\")\n",
    "    \n",
    "    # If the test statistic is greater than the critical value at 5% significance, reject the null hypothesis\n",
    "    if result.statistic > result.critical_values[2]:\n",
    "        print(\"The data is not normally distributed.\")\n",
    "    else:\n",
    "        print(\"The data is normally distributed.\")\n"
   ]
  },
  {
   "cell_type": "code",
   "execution_count": null,
   "id": "6fe749ba-7b06-453d-be91-31f528830b01",
   "metadata": {},
   "outputs": [],
   "source": [
    "factor = 'year'\n",
    "years_groups = [group['monthly_rent'].values for name, group in rental_data_df.groupby(factor)]\n",
    "\n",
    "# Perform Kruskal-Wallis test\n",
    "h_stat, p_value = kruskal(*years_groups)\n",
    "\n",
    "# Check the p-value\n",
    "print(f\"Kruskal-Wallis H-statistic: {h_stat}, P-value: {p_value}\")\n",
    "\n",
    "# If p-value < 0.05, reject the null hypothesis (significant difference between groups)\n",
    "if p_value < 0.05:\n",
    "    print(\"There are significant differences in rental prices across the years.\")\n",
    "else:\n",
    "    print(\"There are no significant differences in rental prices across the years.\")"
   ]
  },
  {
   "cell_type": "code",
   "execution_count": null,
   "id": "e4ba7898-7eac-434a-9412-0fc3261679a8",
   "metadata": {},
   "outputs": [],
   "source": [
    "factor = 'town'\n",
    "years_groups = [group['monthly_rent'].values for name, group in rental_data_df.groupby(factor)]\n",
    "\n",
    "# Perform Kruskal-Wallis test\n",
    "h_stat, p_value = kruskal(*years_groups)\n",
    "\n",
    "# Check the p-value\n",
    "print(f\"Kruskal-Wallis H-statistic: {h_stat}, P-value: {p_value}\")\n",
    "\n",
    "# If p-value < 0.05, reject the null hypothesis (significant difference between groups)\n",
    "if p_value < 0.05:\n",
    "    print(\"There are significant differences in rental prices across the towns.\")\n",
    "else:\n",
    "    print(\"There are no significant differences in rental prices across the towns.\")"
   ]
  },
  {
   "cell_type": "code",
   "execution_count": null,
   "id": "d115b6fe-be0c-4c0d-8a67-52a47e339d40",
   "metadata": {
    "scrolled": true
   },
   "outputs": [],
   "source": [
    "rental_data_df['year'] = pd.to_numeric(rental_data_df['year'], errors='coerce') \n",
    "rental_data_df['monthly_rent'] = pd.to_numeric(rental_data_df['monthly_rent'], errors='coerce')  \n",
    "\n",
    "# Prepare the data (Assuming 'year' is numeric and 'rental_price' is continuous)\n",
    "X = rental_data_df['year']\n",
    "y = rental_data_df['monthly_rent']\n",
    "\n",
    "# Add constant term (intercept)\n",
    "X = sm.add_constant(X)\n",
    "\n",
    "# Fit the model\n",
    "model = sm.OLS(y, X).fit()\n",
    "\n",
    "# Get summary of regression results\n",
    "print(model.summary())\n"
   ]
  },
  {
   "cell_type": "markdown",
   "id": "6fa523c9-1d7d-49c9-b18b-7f149885da95",
   "metadata": {},
   "source": [
    "# HDB to coordinates"
   ]
  },
  {
   "cell_type": "code",
   "execution_count": null,
   "id": "c7329ddf-35ee-4250-b278-6d30f3153416",
   "metadata": {},
   "outputs": [],
   "source": [
    "api_key = load_api_key()"
   ]
  },
  {
   "cell_type": "code",
   "execution_count": null,
   "id": "cf0eb1ac-a5e5-47f7-a9c7-a780cd17e711",
   "metadata": {
    "scrolled": true
   },
   "outputs": [],
   "source": [
    "# https://www.onemap.gov.sg/apidocs/search\n",
    "\n",
    "start = time.time()\n",
    "rental_data_df['postal_code'] = None\n",
    "rental_data_df['latitude'] = None\n",
    "rental_data_df['longitude'] = None\n",
    "row = 0\n",
    "\n",
    "for address in rental_data_df['address'].unique():\n",
    "    url = f\"https://www.onemap.gov.sg/api/common/elastic/search?searchVal={address}&returnGeom=Y&getAddrDetails=Y&pageNum=1\"\n",
    "    headers = {\"Authorization\": api_key}\n",
    "    response = requests.get(url, headers=headers)\n",
    "    while response.status_code != 200:\n",
    "        time.sleep(169)\n",
    "        response = requests.request(\"GET\", url, headers=headers)\n",
    "\n",
    "    parsed_data = json.loads(response.text)\n",
    "    rental_data_df.loc[rental_data_df['address'] == address, 'postal_code'] = parsed_data['results'][0]['POSTAL']\n",
    "    rental_data_df.loc[rental_data_df['address'] == address, 'latitude'] = parsed_data['results'][0]['LATITUDE']\n",
    "    rental_data_df.loc[rental_data_df['address'] == address, 'longitude'] = parsed_data['results'][0]['LONGITUDE']\n",
    "    if row%100 == 0:\n",
    "        print(row, time.time() - start)\n",
    "    row = row + 1\n",
    "start -  time.time()"
   ]
  },
  {
   "cell_type": "raw",
   "id": "d99c3c2c-624a-4f79-aac3-9a55d196e02a",
   "metadata": {},
   "source": [
    "rental_data_df.to_csv('inputs/rental_with_coordinates.csv', index = False)"
   ]
  },
  {
   "cell_type": "markdown",
   "id": "15c4020b-16ef-4070-95f0-3917a41a115f",
   "metadata": {
    "jp-MarkdownHeadingCollapsed": true
   },
   "source": [
    "# Handling wrong postal code"
   ]
  },
  {
   "cell_type": "code",
   "execution_count": null,
   "id": "3fac3897-2e9e-4525-b854-2546df1ee2cc",
   "metadata": {},
   "outputs": [],
   "source": [
    "rental_data_df = pd.read_csv('inputs/rental_with_coordinates.csv')"
   ]
  },
  {
   "cell_type": "code",
   "execution_count": null,
   "id": "b4baff3a-5933-49f3-82b6-bca18a68553d",
   "metadata": {},
   "outputs": [],
   "source": [
    "unique_address_postal_df = rental_data_df[['address', 'postal_code']].drop_duplicates(keep ='first')\n",
    "unique_address_postal_df['postal_code'].value_counts()"
   ]
  },
  {
   "cell_type": "code",
   "execution_count": null,
   "id": "35ca1ffe-8f63-4765-82db-1da317326f2b",
   "metadata": {
    "scrolled": true
   },
   "outputs": [],
   "source": [
    "rental_data_df.loc[rental_data_df['postal_code'] == '530211']"
   ]
  },
  {
   "cell_type": "code",
   "execution_count": null,
   "id": "4a2a43db-722e-46f4-8ff8-b3e73891e1b1",
   "metadata": {},
   "outputs": [],
   "source": [
    "address = '21 HOUGANG AVE 3'\n",
    "url = f\"https://www.onemap.gov.sg/api/common/elastic/search?searchVal={address}&returnGeom=Y&getAddrDetails=Y&pageNum=1\"\n",
    "headers = {\"Authorization\": api_key}\n",
    "response = requests.get(url, headers=headers)\n",
    "while response.status_code != 200:\n",
    "    time.sleep(169)\n",
    "    response = requests.request(\"GET\", url, headers=headers)\n",
    "\n",
    "parsed_data = json.loads(response.text)\n",
    "rental_data_df.loc[rental_data_df['address'] == address, 'postal_code'] = parsed_data['results'][0]['POSTAL']\n",
    "rental_data_df.loc[rental_data_df['address'] == address, 'latitude'] = parsed_data['results'][0]['LATITUDE']\n",
    "rental_data_df.loc[rental_data_df['address'] == address, 'longitude'] = parsed_data['results'][0]['LONGITUDE']"
   ]
  },
  {
   "cell_type": "code",
   "execution_count": null,
   "id": "dfeaeb75-c22c-4489-9174-bdceabc33886",
   "metadata": {
    "scrolled": true
   },
   "outputs": [],
   "source": [
    "rental_data_df.loc[rental_data_df['address'] == address]"
   ]
  },
  {
   "cell_type": "code",
   "execution_count": null,
   "id": "bad54fbd-841a-425a-95c8-c077e9606826",
   "metadata": {},
   "outputs": [],
   "source": [
    "rental_data_df.loc[rental_data_df['address'] == address, 'postal_code'] = '530021'\n",
    "rental_data_df.loc[rental_data_df['address'] == address, 'latitude'] = 1.36424\n",
    "rental_data_df.loc[rental_data_df['address'] == address, 'longitude'] = 103.8914777"
   ]
  },
  {
   "cell_type": "code",
   "execution_count": null,
   "id": "11ebb0bb-d1af-4b20-8a48-7e28081c55a3",
   "metadata": {},
   "outputs": [],
   "source": [
    "rental_data_df.loc[rental_data_df['address'] == address]"
   ]
  },
  {
   "cell_type": "code",
   "execution_count": null,
   "id": "51ae9824-2304-40a1-9bc4-790f78ee6ded",
   "metadata": {},
   "outputs": [],
   "source": [
    "rental_data_df"
   ]
  },
  {
   "cell_type": "code",
   "execution_count": null,
   "id": "b196e162-74fb-43f1-9c28-ae2f09eef397",
   "metadata": {},
   "outputs": [],
   "source": [
    "rental_data_df.to_csv('inputs/rental_with_coordinates.csv', index = False)"
   ]
  }
 ],
 "metadata": {
  "kernelspec": {
   "display_name": "Python 3 (ipykernel)",
   "language": "python",
   "name": "python3"
  },
  "language_info": {
   "codemirror_mode": {
    "name": "ipython",
    "version": 3
   },
   "file_extension": ".py",
   "mimetype": "text/x-python",
   "name": "python",
   "nbconvert_exporter": "python",
   "pygments_lexer": "ipython3",
   "version": "3.12.2"
  }
 },
 "nbformat": 4,
 "nbformat_minor": 5
}
