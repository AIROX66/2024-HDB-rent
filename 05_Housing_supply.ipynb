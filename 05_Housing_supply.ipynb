{
 "cells": [
  {
   "cell_type": "code",
   "execution_count": null,
   "id": "9752fe19-a0ce-46ed-8e3b-936fd9a8b0da",
   "metadata": {},
   "outputs": [],
   "source": [
    "import os\n",
    "import json\n",
    "import requests\n",
    "import time \n",
    "import pandas as pd\n",
    "import numpy as np\n",
    "import seaborn as sns\n",
    "import matplotlib.pyplot as plt\n",
    "\n",
    "from datetime import datetime\n",
    "\n",
    "from functions import load_api_key, plotting\n",
    "\n",
    "pd.set_option('display.max_columns', None)\n",
    "\n",
    "%load_ext autoreload\n",
    "%autoreload 2"
   ]
  },
  {
   "cell_type": "code",
   "execution_count": null,
   "id": "bd9dbc1e-2a79-45dd-8931-0207a554bd13",
   "metadata": {},
   "outputs": [],
   "source": [
    "household_supplies = pd.read_excel('inputs/outputFile.xlsx', sheet_name = 'T1')\n",
    "household_supplies.columns = household_supplies.iloc[9]\n",
    "household_supplies = household_supplies.iloc[10:19]\n",
    "household_supplies = household_supplies.reset_index(drop = True)"
   ]
  },
  {
   "cell_type": "code",
   "execution_count": null,
   "id": "0d7dc2db-c02f-4243-ba8e-9394ecf4c2a8",
   "metadata": {},
   "outputs": [],
   "source": [
    "HDB_supply = household_supplies.iloc[:5]\n",
    "private_supply = household_supplies.iloc[6:8]"
   ]
  },
  {
   "cell_type": "code",
   "execution_count": null,
   "id": "2c401691-9054-43a6-a873-9b0acaf3f7ff",
   "metadata": {},
   "outputs": [],
   "source": [
    "total_HDB_supply = HDB_supply.sum(axis = 0).to_frame().reset_index().iloc[1:]\n",
    "total_HDB_supply.columns = ['year', 'total_HDB_supply']\n",
    "total_HDB_supply.head()"
   ]
  },
  {
   "cell_type": "code",
   "execution_count": null,
   "id": "84119aeb-92b4-4af8-b6f9-daa4044b6337",
   "metadata": {
    "scrolled": true
   },
   "outputs": [],
   "source": [
    "total_private_supply = private_supply.sum(axis = 0).to_frame().reset_index().iloc[1:]\n",
    "total_private_supply.columns = ['year', 'total_private_supply']\n",
    "total_private_supply.head()"
   ]
  },
  {
   "cell_type": "code",
   "execution_count": null,
   "id": "50dac6d7-c87a-4097-8ecb-5a003612a40a",
   "metadata": {},
   "outputs": [],
   "source": [
    "total_HDB_supply['year'] = total_HDB_supply['year'].astype(int)\n",
    "total_HDB_supply.loc[0, 'year'] = 2024\n",
    "total_HDB_supply = total_HDB_supply.sort_values('year', ascending = False)\n",
    "total_HDB_supply['total_HDB_supply_prev_year'] = total_HDB_supply['total_HDB_supply'].shift(-1)\n",
    "\n",
    "total_private_supply['year'] = total_private_supply['year'].astype(int)\n",
    "total_private_supply.loc[0, 'year'] = 2024\n",
    "total_private_supply = total_private_supply.sort_values('year', ascending = False)\n",
    "total_private_supply['total_private_supply_prev_year'] = total_private_supply['total_private_supply'].shift(-1)"
   ]
  },
  {
   "cell_type": "code",
   "execution_count": null,
   "id": "2538f5c9-ee56-4b52-8c24-613b3f765ede",
   "metadata": {
    "scrolled": true
   },
   "outputs": [],
   "source": [
    "total_HDB_supply"
   ]
  },
  {
   "cell_type": "code",
   "execution_count": null,
   "id": "9483ff52-463b-4c9b-b803-34d390adf466",
   "metadata": {
    "scrolled": true
   },
   "outputs": [],
   "source": [
    "total_HDB_supply = total_HDB_supply.sort_values('year')\n",
    "total_HDB_supply['percent_change'] = total_HDB_supply['total_HDB_supply'].pct_change() * 100\n",
    "total_HDB_supply['category'] = 'HDB'\n",
    "\n",
    "total_private_supply = total_private_supply.sort_values('year')\n",
    "total_private_supply['percent_change'] = total_private_supply['total_private_supply'].pct_change() * 100\n",
    "total_private_supply['category'] = 'private'\n"
   ]
  },
  {
   "cell_type": "code",
   "execution_count": null,
   "id": "09a80016-fe8e-41c3-97ce-4f0bd6693757",
   "metadata": {},
   "outputs": [],
   "source": [
    "total_supply = pd.concat([total_HDB_supply[['year', 'category', 'percent_change']], total_private_supply[['year', 'category', 'percent_change']]])"
   ]
  },
  {
   "cell_type": "code",
   "execution_count": null,
   "id": "7083bf0d-7e56-4322-a7db-c8a32da80906",
   "metadata": {},
   "outputs": [],
   "source": [
    "df = total_supply.loc[total_supply['year'].between(2022,2024)]\n",
    "plotting('Unit supply growth in each sector', 'barplot', df, 'category', 'percent_change', 'year')"
   ]
  },
  {
   "cell_type": "code",
   "execution_count": null,
   "id": "fde1e887-5bb3-4888-925b-f0c6aa35bd0e",
   "metadata": {},
   "outputs": [],
   "source": []
  },
  {
   "cell_type": "code",
   "execution_count": null,
   "id": "cb5cb611-ee1d-4ef9-b76d-875b99dfd243",
   "metadata": {},
   "outputs": [],
   "source": []
  },
  {
   "cell_type": "code",
   "execution_count": null,
   "id": "b0d05bb3-3034-4748-9eaa-f2386840447a",
   "metadata": {},
   "outputs": [],
   "source": [
    "rental_data_df = pd.read_csv('inputs/rental_with_coordinates.csv')\n",
    "rental_data_df = rental_data_df.merge(total_HDB_supply, on = 'year', how = 'left')\n",
    "rental_data_df = rental_data_df.merge(total_private_supply, on = 'year', how = 'left')\n",
    "rental_data_df.head()"
   ]
  },
  {
   "cell_type": "code",
   "execution_count": null,
   "id": "bc64c0df-19cf-4fb8-aa9d-e69cb7cd70ba",
   "metadata": {},
   "outputs": [],
   "source": [
    "total_rents_df = rental_data_df.groupby('year').size().reset_index()\n",
    "total_rents_df = total_rents_df.rename(columns = {0 : 'count_of_rents'})\n",
    "total_rents_df = total_rents_df.merge(total_HDB_supply, on = 'year', how = 'left')\n",
    "total_rents_df = total_rents_df.merge(total_private_supply, on = 'year', how = 'left')\n",
    "total_rents_df['HDB_rent_supply_ratio'] = total_rents_df['count_of_rents'] / total_rents_df['total_HDB_supply']\n",
    "total_rents_df['private_rent_supply_ratio'] = total_rents_df['count_of_rents'] / total_rents_df['total_private_supply']\n",
    "total_rents_df['HDB_rent_prev_supply_ratio'] = total_rents_df['count_of_rents'] / total_rents_df['total_HDB_supply_prev_year']\n",
    "total_rents_df['private_rent_prev_supply_ratio'] = total_rents_df['count_of_rents'] / total_rents_df['total_private_supply_prev_year']\n",
    "total_rents_df"
   ]
  },
  {
   "cell_type": "code",
   "execution_count": null,
   "id": "3c81fcd1-bafc-4d7f-b7f7-8a29c2270648",
   "metadata": {},
   "outputs": [],
   "source": []
  },
  {
   "cell_type": "code",
   "execution_count": null,
   "id": "dde11296-4438-4089-869c-c257525e3184",
   "metadata": {},
   "outputs": [],
   "source": []
  },
  {
   "cell_type": "code",
   "execution_count": null,
   "id": "57311956-ad3f-4e85-adf7-81edd08b0be1",
   "metadata": {},
   "outputs": [],
   "source": []
  },
  {
   "cell_type": "code",
   "execution_count": null,
   "id": "a6b3c8fd-7927-4d58-af49-1d5af5c09744",
   "metadata": {},
   "outputs": [],
   "source": []
  },
  {
   "cell_type": "code",
   "execution_count": null,
   "id": "e15f3865-d29b-4c80-91a0-5d0f2dae8c73",
   "metadata": {},
   "outputs": [],
   "source": []
  },
  {
   "cell_type": "code",
   "execution_count": null,
   "id": "90883f01-fe21-4c92-afbf-75ab804d9584",
   "metadata": {},
   "outputs": [],
   "source": []
  }
 ],
 "metadata": {
  "kernelspec": {
   "display_name": "Python 3 (ipykernel)",
   "language": "python",
   "name": "python3"
  },
  "language_info": {
   "codemirror_mode": {
    "name": "ipython",
    "version": 3
   },
   "file_extension": ".py",
   "mimetype": "text/x-python",
   "name": "python",
   "nbconvert_exporter": "python",
   "pygments_lexer": "ipython3",
   "version": "3.12.2"
  }
 },
 "nbformat": 4,
 "nbformat_minor": 5
}
