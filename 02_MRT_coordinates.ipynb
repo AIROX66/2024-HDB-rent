{
 "cells": [
  {
   "cell_type": "raw",
   "id": "87a42bc6-b24d-412c-8bfb-4e39d68539e2",
   "metadata": {},
   "source": [
    "mrt station, ntuc, shopping mall, distance, supply of houses, supply of condo (building and completed)"
   ]
  },
  {
   "cell_type": "code",
   "execution_count": null,
   "id": "792fd130-1bb9-4060-a9c7-84fb4076a7a5",
   "metadata": {},
   "outputs": [],
   "source": [
    "import os\n",
    "import json\n",
    "import requests\n",
    "import pandas as pd\n",
    "import numpy as np\n",
    "import time \n",
    "import matplotlib.pyplot as plt\n",
    "\n",
    "from functions import load_api_key\n",
    "\n",
    "pd.set_option('display.max_columns', None)\n",
    "\n",
    "%load_ext autoreload\n",
    "%autoreload 2"
   ]
  },
  {
   "cell_type": "code",
   "execution_count": null,
   "id": "5ec45496-7fed-40e9-a456-eeb73a8b5220",
   "metadata": {},
   "outputs": [],
   "source": [
    "api_key = load_api_key()"
   ]
  },
  {
   "cell_type": "markdown",
   "id": "98f11ccf-c643-4dc9-aaff-16590efc8190",
   "metadata": {},
   "source": [
    "# MRT coordinates"
   ]
  },
  {
   "cell_type": "code",
   "execution_count": null,
   "id": "efc31433-054c-46e0-81ef-20b970ef68d2",
   "metadata": {
    "scrolled": true
   },
   "outputs": [],
   "source": [
    "line_ls = ['EW', 'NS', 'NE', 'CC', 'DT', 'TE', 'BP', 'SE', 'SW', 'PE', 'PW']\n",
    "\n",
    "station_ls = []\n",
    "\n",
    "for line in line_ls:\n",
    "    temp_ls = [line + str(i) for i in range(1, 40)]\n",
    "    station_ls = station_ls + temp_ls\n",
    "station_ls"
   ]
  },
  {
   "cell_type": "code",
   "execution_count": null,
   "id": "8d794b75-af45-493b-a99d-7727afd6ac7f",
   "metadata": {},
   "outputs": [],
   "source": [
    "station_df = pd.DataFrame(station_ls, columns = ['station_code'])\n",
    "station_df['station_name'] = None\n",
    "station_df['postal_code']  = None\n",
    "station_df['latitude']     = None\n",
    "station_df['longitude']    = None\n",
    "station_df"
   ]
  },
  {
   "cell_type": "code",
   "execution_count": null,
   "id": "50b0b3fe-903c-4b81-a59d-beeb8468d168",
   "metadata": {
    "scrolled": true
   },
   "outputs": [],
   "source": [
    "start = time.time()\n",
    "for station in station_ls:\n",
    "    url = f\"https://www.onemap.gov.sg/api/common/elastic/search?searchVal={station}&returnGeom=Y&getAddrDetails=Y&pageNum=1\"\n",
    "    headers = {\"Authorization\": api_key}\n",
    "    response = requests.get(url, headers=headers)\n",
    "    parsed_data = json.loads(response.text)\n",
    "\n",
    "    for count in range(len(parsed_data['results'])):  \n",
    "         if ('MRT' in parsed_data['results'][count]['SEARCHVAL']) or ('LRT' in parsed_data['results'][count]['SEARCHVAL']):\n",
    "             station_df.loc[station_df['station_code'] == station, 'station_name'] = parsed_data['results'][count]['SEARCHVAL']\n",
    "             station_df.loc[station_df['station_code'] == station, 'postal_code'] = parsed_data['results'][count]['POSTAL']\n",
    "             station_df.loc[station_df['station_code'] == station, 'latitude'] = parsed_data['results'][count]['LATITUDE']\n",
    "             station_df.loc[station_df['station_code'] == station, 'longitude'] = parsed_data['results'][count]['LONGITUDE'] \n",
    "    \n",
    "    print(station, start -  time.time())"
   ]
  },
  {
   "cell_type": "code",
   "execution_count": null,
   "id": "b7367e76-1d78-4765-9863-a8fc2f4d5d88",
   "metadata": {},
   "outputs": [],
   "source": [
    "station_df[['station_name', 'postal_code', 'latitude', 'longitude']]"
   ]
  },
  {
   "cell_type": "code",
   "execution_count": null,
   "id": "486f5f68-4f17-45af-9899-2c4b703af811",
   "metadata": {},
   "outputs": [],
   "source": [
    "station_df = station_df.drop_duplicates(subset = ['station_name', 'postal_code', 'latitude', 'longitude'], keep='first')\n",
    "station_df = station_df.loc[station_df['postal_code'] != 'NIL']\n",
    "station_df = station_df.dropna()"
   ]
  },
  {
   "cell_type": "code",
   "execution_count": null,
   "id": "4f6487ee-c50b-42c9-a73b-f8e4333bd049",
   "metadata": {},
   "outputs": [],
   "source": [
    "station_df"
   ]
  },
  {
   "cell_type": "raw",
   "id": "8da2e560-c763-4fc7-9e42-d5e784fc4846",
   "metadata": {},
   "source": [
    "station_df.to_csv('inputs/stations_with_coordinates.csv', index = False)"
   ]
  }
 ],
 "metadata": {
  "kernelspec": {
   "display_name": "Python 3 (ipykernel)",
   "language": "python",
   "name": "python3"
  },
  "language_info": {
   "codemirror_mode": {
    "name": "ipython",
    "version": 3
   },
   "file_extension": ".py",
   "mimetype": "text/x-python",
   "name": "python",
   "nbconvert_exporter": "python",
   "pygments_lexer": "ipython3",
   "version": "3.12.2"
  }
 },
 "nbformat": 4,
 "nbformat_minor": 5
}
