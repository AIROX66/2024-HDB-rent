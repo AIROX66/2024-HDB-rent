{
 "cells": [
  {
   "cell_type": "raw",
   "id": "87a42bc6-b24d-412c-8bfb-4e39d68539e2",
   "metadata": {},
   "source": [
    "mrt station, ntuc, shopping mall, distance, supply of houses, supply of condo (building and completed)"
   ]
  },
  {
   "cell_type": "code",
   "execution_count": null,
   "id": "9634c6e9-55b9-432f-80c7-da0d9c3d4c96",
   "metadata": {},
   "outputs": [],
   "source": [
    "import os\n",
    "import json\n",
    "import requests\n",
    "import time \n",
    "import pandas as pd\n",
    "import numpy as np\n",
    "import seaborn as sns\n",
    "import matplotlib.pyplot as plt\n",
    "\n",
    "from datetime import datetime\n",
    "\n",
    "from functions import load_api_key, plotting\n",
    "\n",
    "pd.set_option('display.max_columns', None)\n",
    "\n",
    "%load_ext autoreload\n",
    "%autoreload 2"
   ]
  },
  {
   "cell_type": "code",
   "execution_count": null,
   "id": "08f0d432-f697-40dc-9012-036f9bb48a87",
   "metadata": {},
   "outputs": [],
   "source": [
    "hdb_df = pd.read_csv('inputs/HDBPropertyInformation.csv')\n",
    "rental_data_df = pd.read_csv('inputs/rental_with_coordinates.csv')\n",
    "time_distance_df = pd.read_csv('inputs/travelling_distance.csv')"
   ]
  },
  {
   "cell_type": "markdown",
   "id": "cfbb2dfa-d22c-48bd-a3d1-91926856c0e3",
   "metadata": {},
   "source": [
    "# Merging HDBPropertyInformation and rental_with_coordinates"
   ]
  },
  {
   "cell_type": "code",
   "execution_count": null,
   "id": "8c5a7711-d7c3-4b43-a395-820f390333e3",
   "metadata": {},
   "outputs": [],
   "source": [
    "hdb_df['address'] = hdb_df['blk_no'] + ' ' + hdb_df['street'] "
   ]
  },
  {
   "cell_type": "code",
   "execution_count": null,
   "id": "61d9dd94-3b9c-4828-9551-c4dd2d4b0ecf",
   "metadata": {},
   "outputs": [],
   "source": [
    "rental_data_df = pd.merge(rental_data_df, \n",
    "                          hdb_df[['max_floor_lvl', 'year_completed', 'residential', 'commercial', \n",
    "                                  'market_hawker', 'miscellaneous', 'multistorey_carpark', 'precinct_pavilion', 'address']], \n",
    "                          how = 'left', \n",
    "                          on = 'address')"
   ]
  },
  {
   "cell_type": "code",
   "execution_count": null,
   "id": "3b797020-f55f-43e8-acd4-56e093cbca46",
   "metadata": {},
   "outputs": [],
   "source": [
    "rental_data_df.shape"
   ]
  },
  {
   "cell_type": "code",
   "execution_count": null,
   "id": "2ad4f31d-6a54-4b44-bbdf-3f37a7c7abc9",
   "metadata": {},
   "outputs": [],
   "source": [
    "rental_data_df.isna().sum()"
   ]
  },
  {
   "cell_type": "code",
   "execution_count": null,
   "id": "104d9514-2b6f-43cb-a883-ad18054d9c3f",
   "metadata": {
    "scrolled": true
   },
   "outputs": [],
   "source": [
    "rental_data_df[rental_data_df['max_floor_lvl'].isna()]"
   ]
  },
  {
   "cell_type": "code",
   "execution_count": null,
   "id": "80c09bb3-a11a-4003-bb60-35baed329e58",
   "metadata": {
    "scrolled": true
   },
   "outputs": [],
   "source": [
    "rental_data_df['age'] = int(datetime.now().year) - rental_data_df['year_completed']\n",
    "rental_data_df['age'].describe()"
   ]
  },
  {
   "cell_type": "code",
   "execution_count": null,
   "id": "5bfb8816-a7cb-43da-82fa-c6e95898838f",
   "metadata": {},
   "outputs": [],
   "source": [
    "rental_data_df['age'] = pd.to_numeric(rental_data_df['age'], errors='coerce')\n",
    "bins = range(0, int(rental_data_df['age'].max()) + 5, 5)  \n",
    "rental_data_df['age_group'] = pd.cut(rental_data_df['age'], bins=bins, right=False)"
   ]
  },
  {
   "cell_type": "markdown",
   "id": "d0e66829-9182-4659-bd0c-d689f918537a",
   "metadata": {},
   "source": [
    "## EDA"
   ]
  },
  {
   "cell_type": "code",
   "execution_count": null,
   "id": "7d90b712-3ba9-494f-a7ab-c21e267ccc17",
   "metadata": {},
   "outputs": [],
   "source": [
    "plotting('Town rents across age groups', 'boxplot', rental_data_df, 'age_group', 'monthly_rent')"
   ]
  },
  {
   "cell_type": "code",
   "execution_count": null,
   "id": "da7555cb-522f-48a6-8a2f-dcf7b8d76b0a",
   "metadata": {},
   "outputs": [],
   "source": [
    "plotting('Town rents across age groups in each town', 'boxplot', rental_data_df, 'town', 'monthly_rent', 'age_group')"
   ]
  },
  {
   "cell_type": "code",
   "execution_count": null,
   "id": "c3d468c6-fdb5-4c5f-8380-c0e7593fbc40",
   "metadata": {
    "scrolled": true
   },
   "outputs": [],
   "source": [
    "amenties = ['commercial', 'market_hawker', 'miscellaneous', 'multistorey_carpark', 'precinct_pavilion']\n",
    "for amenity in amenties:\n",
    "    plotting(f'Town rents across {amenity} in each town', 'boxplot', rental_data_df, 'town', 'monthly_rent', amenity)"
   ]
  },
  {
   "cell_type": "code",
   "execution_count": null,
   "id": "f4fd38ac-8466-47bc-8442-bac66ffa8f5c",
   "metadata": {},
   "outputs": [],
   "source": []
  },
  {
   "cell_type": "markdown",
   "id": "11a0f0db-4b97-44e3-bcbd-9c178b88c2f8",
   "metadata": {},
   "source": [
    "# Merging again with travelling_distance"
   ]
  },
  {
   "cell_type": "code",
   "execution_count": null,
   "id": "bf821f03-84e6-4ec2-8a73-d6e09a3526ce",
   "metadata": {},
   "outputs": [],
   "source": [
    "time_distance_df.head()"
   ]
  },
  {
   "cell_type": "code",
   "execution_count": null,
   "id": "856c8e46-8641-4076-a9ef-784090e4b960",
   "metadata": {},
   "outputs": [],
   "source": [
    "time_distance_df['postal_code'].nunique()"
   ]
  },
  {
   "cell_type": "code",
   "execution_count": null,
   "id": "6e79f8d6-8bbd-4619-b156-fec9843e8386",
   "metadata": {},
   "outputs": [],
   "source": [
    "fastest_time_df = time_distance_df.loc[time_distance_df.groupby(['postal_code', 'latitude', 'longitude'])['walking_time_s'].idxmin()]"
   ]
  },
  {
   "cell_type": "code",
   "execution_count": null,
   "id": "37b11414-97fd-4627-974b-79fdb1daf352",
   "metadata": {
    "scrolled": true
   },
   "outputs": [],
   "source": [
    "rental_data_df['postal_code'] = rental_data_df['postal_code'].astype(int)"
   ]
  },
  {
   "cell_type": "code",
   "execution_count": null,
   "id": "ba42f430-8084-4a62-8037-2c9be22bf4ce",
   "metadata": {},
   "outputs": [],
   "source": [
    "main_rental_data_df = rental_data_df.merge(fastest_time_df, on = ['postal_code', 'latitude', 'longitude'])"
   ]
  },
  {
   "cell_type": "code",
   "execution_count": null,
   "id": "d82da8a0-a350-4fe2-9081-06f8c413a2b9",
   "metadata": {},
   "outputs": [],
   "source": [
    "main_rental_data_df.columns"
   ]
  },
  {
   "cell_type": "code",
   "execution_count": null,
   "id": "bb546b8f-68ec-4c3e-a885-9af666c115d4",
   "metadata": {},
   "outputs": [],
   "source": [
    "main_rental_data_df['walking_time_s'] = pd.to_numeric(main_rental_data_df['walking_time_s'], errors='coerce')\n",
    "interval = 300\n",
    "bins = range(0, int(main_rental_data_df['walking_time_s'].max()) + interval, interval)  \n",
    "main_rental_data_df['walking_time_interval'] = pd.cut(main_rental_data_df['walking_time_s'], bins=bins, right=False)"
   ]
  },
  {
   "cell_type": "markdown",
   "id": "ab33ebda-5f60-4def-8aa2-1d5f73b70057",
   "metadata": {},
   "source": [
    "## EDA"
   ]
  },
  {
   "cell_type": "code",
   "execution_count": null,
   "id": "fe08f822-344b-4b1c-891a-092d302e1025",
   "metadata": {},
   "outputs": [],
   "source": [
    "main_rental_data_df"
   ]
  },
  {
   "cell_type": "code",
   "execution_count": null,
   "id": "ebe87a0c-cc95-45bf-8a9b-145ff0f01185",
   "metadata": {},
   "outputs": [],
   "source": [
    "plotting('Town rents across walking time', 'boxplot', main_rental_data_df, 'walking_time_interval', 'monthly_rent', 'year')"
   ]
  },
  {
   "cell_type": "code",
   "execution_count": null,
   "id": "dddaa732-d42d-4716-9574-4ab83476de55",
   "metadata": {
    "scrolled": true
   },
   "outputs": [],
   "source": [
    "for town in main_rental_data_df['town'].unique():\n",
    "    df = main_rental_data_df[main_rental_data_df['town'] == town]\n",
    "    town = town.replace('/', '_')\n",
    "    plotting(f'Town rents across walking time in {town}', 'boxplot', df, 'walking_time_interval', 'monthly_rent', 'year')"
   ]
  },
  {
   "cell_type": "code",
   "execution_count": null,
   "id": "f932f613-9a08-4934-9c53-0b515709f1d6",
   "metadata": {},
   "outputs": [],
   "source": []
  },
  {
   "cell_type": "code",
   "execution_count": null,
   "id": "7f341f08-7281-48f4-bd04-9c128f481be4",
   "metadata": {},
   "outputs": [],
   "source": []
  },
  {
   "cell_type": "code",
   "execution_count": null,
   "id": "8bb3e83e-5d86-4708-ade4-a36ad9cef330",
   "metadata": {},
   "outputs": [],
   "source": []
  }
 ],
 "metadata": {
  "kernelspec": {
   "display_name": "Python 3 (ipykernel)",
   "language": "python",
   "name": "python3"
  },
  "language_info": {
   "codemirror_mode": {
    "name": "ipython",
    "version": 3
   },
   "file_extension": ".py",
   "mimetype": "text/x-python",
   "name": "python",
   "nbconvert_exporter": "python",
   "pygments_lexer": "ipython3",
   "version": "3.12.2"
  }
 },
 "nbformat": 4,
 "nbformat_minor": 5
}
