{
 "cells": [
  {
   "cell_type": "code",
   "execution_count": null,
   "id": "9752fe19-a0ce-46ed-8e3b-936fd9a8b0da",
   "metadata": {},
   "outputs": [],
   "source": [
    "import os\n",
    "import json\n",
    "import requests\n",
    "import time \n",
    "import pandas as pd\n",
    "import numpy as np\n",
    "import seaborn as sns\n",
    "import matplotlib.pyplot as plt\n",
    "\n",
    "from datetime import datetime\n",
    "\n",
    "from functions import load_api_key, plotting\n",
    "\n",
    "pd.set_option('display.max_columns', None)\n",
    "\n",
    "%load_ext autoreload\n",
    "%autoreload 2"
   ]
  },
  {
   "cell_type": "markdown",
   "id": "e2c90be7-ff27-4679-9684-2aaec37fa52d",
   "metadata": {},
   "source": [
    "# Foreign Workers (FW) or Foreign Talents (FT)"
   ]
  },
  {
   "cell_type": "code",
   "execution_count": null,
   "id": "d9b646c6-1e89-471a-b9aa-250cca9df85b",
   "metadata": {},
   "outputs": [],
   "source": [
    "FT_df = pd.read_excel('inputs/foreign-workforce-numbers.xlsx')\n",
    "FT_df.columns = FT_df.iloc[0]  \n",
    "FT_df = FT_df.T\n",
    "FT_df.columns = FT_df.iloc[0]  \n",
    "FT_df = FT_df.iloc[1:]\n",
    "FT_df = FT_df.reset_index(drop=True)  "
   ]
  },
  {
   "cell_type": "code",
   "execution_count": null,
   "id": "19e8ea56-f132-4300-bc69-5f0830dd697a",
   "metadata": {},
   "outputs": [],
   "source": [
    "FT_df.columns"
   ]
  },
  {
   "cell_type": "code",
   "execution_count": null,
   "id": "dbc9c866-1e46-4765-a388-f036c2bbee87",
   "metadata": {},
   "outputs": [],
   "source": [
    "FT_df"
   ]
  },
  {
   "cell_type": "code",
   "execution_count": null,
   "id": "0d4da0d4-6d09-48eb-9d2b-73bcdc93e135",
   "metadata": {},
   "outputs": [],
   "source": [
    "FT_df = FT_df[['Pass Type', 'Employment Pass (EP)', 'S Pass', 'Work Permit (Total)', '- Work Permit (Migrant Domestic Workers)',\n",
    "       '- Work Permit (Construction, Marine Shipyard and Process)',\n",
    "       'Other Work Passes2', 'Total Foreign Workforce']]\n",
    "FT_df = FT_df.rename(columns= {'- Work Permit (Construction, Marine Shipyard and Process)' : 'Work Permit (Construction, Marine Shipyard and Process)', \n",
    "                               'Other Work Passes2':'Other Work Passes', \n",
    "                              '- Work Permit (Migrant Domestic Workers)' : 'Work Permit (Migrant Domestic Workers)'})"
   ]
  },
  {
   "cell_type": "code",
   "execution_count": null,
   "id": "06272710-d3da-4725-a45f-bbc42d21282b",
   "metadata": {},
   "outputs": [],
   "source": [
    "for col in FT_df.columns:\n",
    "    if col == 'Pass Type':\n",
    "        continue\n",
    "    else:\n",
    "        FT_df[col] = FT_df[col].astype(int)"
   ]
  },
  {
   "cell_type": "code",
   "execution_count": null,
   "id": "95e382d9-f985-42f0-8aa9-ac7a5cfcf500",
   "metadata": {},
   "outputs": [],
   "source": [
    "FT_df['datetime'] = pd.to_datetime(FT_df['Pass Type'], errors = 'coerce')\n",
    "FT_df['year'] = FT_df['datetime'].dt.year"
   ]
  },
  {
   "cell_type": "code",
   "execution_count": null,
   "id": "ae56ef3e-d787-4485-b7b3-e212ff0ceb60",
   "metadata": {},
   "outputs": [],
   "source": [
    "FT_df.dtypes"
   ]
  },
  {
   "cell_type": "code",
   "execution_count": null,
   "id": "9a7ef754-5249-40df-ab18-834b6dda2815",
   "metadata": {},
   "outputs": [],
   "source": [
    "FT_df"
   ]
  },
  {
   "cell_type": "code",
   "execution_count": null,
   "id": "5dab1b74-0f19-4ca9-ab31-cfd8fbd01801",
   "metadata": {},
   "outputs": [],
   "source": [
    "FT_df['Total Work Permit (excluding Migrant Domestic Workers)'] = FT_df['Work Permit (Total)'] - FT_df['Work Permit (Migrant Domestic Workers)']"
   ]
  },
  {
   "cell_type": "code",
   "execution_count": null,
   "id": "706f4028-e7d7-4585-9c8d-97472f875b3b",
   "metadata": {},
   "outputs": [],
   "source": [
    "FT_df"
   ]
  },
  {
   "cell_type": "code",
   "execution_count": null,
   "id": "e54d34cb-4b79-4833-9f4a-c9cf6e657dd5",
   "metadata": {},
   "outputs": [],
   "source": [
    "collapsed_FT_df = pd.melt(FT_df, id_vars=[\"year\"], var_name=\"category\", value_name=\"number_of_people\")"
   ]
  },
  {
   "cell_type": "code",
   "execution_count": null,
   "id": "8ebf21c7-ad93-4e4d-bc2f-ff377a90b388",
   "metadata": {},
   "outputs": [],
   "source": [
    "order = ['Employment Pass (EP)', 'S Pass', 'Work Permit (Construction, Marine Shipyard and Process)', 'Other Work Passes', 'Total Work Permit (excluding Migrant Domestic Workers)', 'Total Foreign Workforce']\n",
    "df = collapsed_FT_df.loc[(collapsed_FT_df['category'].isin(order)) & (collapsed_FT_df['year'] >= 2021)].reset_index(drop = True)\n",
    "df['number_of_people'] = df['number_of_people'].astype(int)\n",
    "plotting('FT vs time', 'barplot', df, 'category', 'number_of_people', 'year', desired_order = order)"
   ]
  },
  {
   "cell_type": "code",
   "execution_count": null,
   "id": "e7317d2c-9377-412f-bba9-6a45fb7398d4",
   "metadata": {},
   "outputs": [],
   "source": []
  },
  {
   "cell_type": "markdown",
   "id": "8115c29a-d488-41eb-98c5-306e89ffb306",
   "metadata": {},
   "source": [
    "# Latest population figures"
   ]
  },
  {
   "cell_type": "code",
   "execution_count": null,
   "id": "35b3d096-29a9-48f2-8953-6c8febe2d1f3",
   "metadata": {},
   "outputs": [],
   "source": [
    "population_df = pd.read_csv('inputs/Indicators On Population.csv')\n",
    "population_df.columns = population_df.iloc[7]\n",
    "population_df = population_df.iloc[8:15]\n",
    "population_df =population_df.T\n",
    "population_df.columns = population_df.iloc[0]\n",
    "population_df = population_df.iloc[1:6]\n",
    "population_df = population_df .reset_index()\n",
    "population_df = population_df.rename(columns = {7: 'year'})"
   ]
  },
  {
   "cell_type": "code",
   "execution_count": null,
   "id": "47a4db22-dab7-4c6b-9460-6eec9d1f331d",
   "metadata": {},
   "outputs": [],
   "source": [
    "population_df"
   ]
  },
  {
   "cell_type": "code",
   "execution_count": null,
   "id": "5a049f66-905e-4566-86c2-8644b2c649f1",
   "metadata": {},
   "outputs": [],
   "source": [
    "collapsed_population_df = pd.melt(population_df, id_vars=[\"year\"], var_name=\"category\", value_name=\"number_of_people\")\n",
    "collapsed_population_df['year'] = collapsed_population_df['year'].astype(int)\n",
    "collapsed_population_df['number_of_people'] = collapsed_population_df['number_of_people'].astype(float)"
   ]
  },
  {
   "cell_type": "code",
   "execution_count": null,
   "id": "af32ef6d-a48d-439b-a960-6d85cf6817ee",
   "metadata": {
    "scrolled": true
   },
   "outputs": [],
   "source": [
    "non_resident_population_df = population_df[['year', 'Non-Resident Population (Number)']].copy()\n",
    "non_resident_population_df['year'] = non_resident_population_df['year'].astype(int)\n",
    "non_resident_population_df['Non-Resident Population (Number)'] = non_resident_population_df['Non-Resident Population (Number)'].astype(int)\n",
    "non_resident_population_df = non_resident_population_df.sort_values(by = 'year')\n",
    "non_resident_population_df['number_of_people'] = non_resident_population_df['Non-Resident Population (Number)'].pct_change() * 100\n",
    "non_resident_population_df['category'] = 'Non-Resident Growth (Per Cent)'\n",
    "collapsed_population_df = pd.concat([collapsed_population_df, non_resident_population_df[['year', 'number_of_people', 'category']]])"
   ]
  },
  {
   "cell_type": "code",
   "execution_count": null,
   "id": "2768e44a-eefd-4041-8c16-0f77a685a5b8",
   "metadata": {},
   "outputs": [],
   "source": [
    "order = ['Total Population (Number)', 'Resident Population (Number)',\n",
    "       'Singapore Citizen Population (Number)',\n",
    "       'Permanent Resident Population (Number)',\n",
    "       'Non-Resident Population (Number)']\n",
    "df = collapsed_population_df.loc[(collapsed_population_df['category'].isin(order)) & (collapsed_population_df['year'] >= 2022)].reset_index(drop = True)\n",
    "plotting('Population vs time', 'barplot', df, 'category', 'number_of_people', 'year', desired_order = order)"
   ]
  },
  {
   "cell_type": "code",
   "execution_count": null,
   "id": "71242648-9971-4afe-9802-5d64220d3935",
   "metadata": {},
   "outputs": [],
   "source": [
    "order = ['Non-Resident Growth (Per Cent)', 'Resident Population Growth (Per Cent)', 'Total Population Growth (Per Cent)']\n",
    "df = collapsed_population_df.loc[(collapsed_population_df['category'].isin(order)) & (collapsed_population_df['year'] >= 2022)].reset_index(drop = True)\n",
    "plotting('Population growth vs time', 'barplot', df, 'category', 'number_of_people', 'year', desired_order = order)"
   ]
  },
  {
   "cell_type": "code",
   "execution_count": null,
   "id": "66dd0039-dc34-4c8d-b62b-3045b768b6c6",
   "metadata": {},
   "outputs": [],
   "source": []
  },
  {
   "cell_type": "code",
   "execution_count": null,
   "id": "d5fe9dbf-2e51-4806-b400-903c322e2672",
   "metadata": {},
   "outputs": [],
   "source": []
  },
  {
   "cell_type": "code",
   "execution_count": null,
   "id": "314621b6-497a-4d72-9940-cf05759f2ee4",
   "metadata": {},
   "outputs": [],
   "source": []
  },
  {
   "cell_type": "code",
   "execution_count": null,
   "id": "17a23f8e-88c5-431b-bfa4-5c9d381de0ec",
   "metadata": {},
   "outputs": [],
   "source": []
  },
  {
   "cell_type": "code",
   "execution_count": null,
   "id": "4c3b4fbb-1db3-40c5-bda7-827738d5aa73",
   "metadata": {},
   "outputs": [],
   "source": []
  },
  {
   "cell_type": "code",
   "execution_count": null,
   "id": "c635c9f8-ac83-4f97-9d1d-6a1c4c138a05",
   "metadata": {},
   "outputs": [],
   "source": []
  }
 ],
 "metadata": {
  "kernelspec": {
   "display_name": "Python 3 (ipykernel)",
   "language": "python",
   "name": "python3"
  },
  "language_info": {
   "codemirror_mode": {
    "name": "ipython",
    "version": 3
   },
   "file_extension": ".py",
   "mimetype": "text/x-python",
   "name": "python",
   "nbconvert_exporter": "python",
   "pygments_lexer": "ipython3",
   "version": "3.12.2"
  }
 },
 "nbformat": 4,
 "nbformat_minor": 5
}
